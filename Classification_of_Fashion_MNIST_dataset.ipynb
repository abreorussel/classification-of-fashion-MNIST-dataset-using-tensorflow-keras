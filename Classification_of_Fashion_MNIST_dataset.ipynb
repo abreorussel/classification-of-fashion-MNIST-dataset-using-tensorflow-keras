{
 "cells": [
  {
   "cell_type": "code",
   "execution_count": 1,
   "metadata": {},
   "outputs": [],
   "source": [
    "import tensorflow as tf\n",
    "from tensorflow import keras\n",
    "import numpy as np\n",
    "import pandas as pd\n",
    "import matplotlib.pyplot as plt\n",
    "import seaborn as sns\n",
    "%matplotlib inline"
   ]
  },
  {
   "cell_type": "markdown",
   "metadata": {},
   "source": [
    "# Classification : Fashion MNIST"
   ]
  },
  {
   "cell_type": "code",
   "execution_count": 15,
   "metadata": {},
   "outputs": [],
   "source": [
    "mnist = keras.datasets.fashion_mnist"
   ]
  },
  {
   "cell_type": "code",
   "execution_count": 16,
   "metadata": {},
   "outputs": [],
   "source": [
    "(X_train_full , y_train_full) , (X_test , y_test )= mnist.load_data()"
   ]
  },
  {
   "cell_type": "code",
   "execution_count": 17,
   "metadata": {},
   "outputs": [
    {
     "data": {
      "text/plain": [
       "(60000, 28, 28)"
      ]
     },
     "execution_count": 17,
     "metadata": {},
     "output_type": "execute_result"
    }
   ],
   "source": [
    "X_train_full.shape"
   ]
  },
  {
   "cell_type": "code",
   "execution_count": 18,
   "metadata": {},
   "outputs": [],
   "source": [
    "# Creating a validation set\n",
    "# They are divided by 255.0 in order to scale the values b/w 0 and 1 and to also convert them to floats \n",
    "\n",
    "X_valid , X_train = X_train_full[:5000]/255.0 , X_train_full[5000:]/255.0\n",
    "y_valid , y_train = y_train_full[:5000] , y_train_full[5000:]"
   ]
  },
  {
   "cell_type": "code",
   "execution_count": 19,
   "metadata": {},
   "outputs": [
    {
     "data": {
      "text/plain": [
       "10"
      ]
     },
     "execution_count": 19,
     "metadata": {},
     "output_type": "execute_result"
    }
   ],
   "source": [
    "class_names = ['T-shirt/top' , 'Trouser' , 'Pullover' , 'Dress' , 'Coat' , 'Sandal' , 'Shirt' ,'Sneaker', 'Bag' , 'Ankle Boot']\n",
    "len(class_names)"
   ]
  },
  {
   "cell_type": "code",
   "execution_count": 20,
   "metadata": {},
   "outputs": [
    {
     "data": {
      "text/plain": [
       "'Coat'"
      ]
     },
     "execution_count": 20,
     "metadata": {},
     "output_type": "execute_result"
    }
   ],
   "source": [
    "class_names[y_train[0]]"
   ]
  },
  {
   "cell_type": "code",
   "execution_count": 21,
   "metadata": {},
   "outputs": [
    {
     "data": {
      "text/plain": [
       "<matplotlib.image.AxesImage at 0x25aebb28b50>"
      ]
     },
     "execution_count": 21,
     "metadata": {},
     "output_type": "execute_result"
    },
    {
     "data": {
      "image/png": "[encoded data removed]",
      "text/plain": [
       "<Figure size 432x288 with 1 Axes>"
      ]
     },
     "metadata": {
      "needs_background": "light"
     },
     "output_type": "display_data"
    }
   ],
   "source": [
    "plt.imshow(X_train[0])"
   ]
  },
  {
   "cell_type": "code",
   "execution_count": 22,
   "metadata": {},
   "outputs": [],
   "source": [
    "# Initaializing the neural network\n",
    "\n",
    "model = keras.models.Sequential([keras.layers.Flatten(input_shape = [28,28] ) , \n",
    "                                 keras.layers.Dense(300 , activation = tf.nn.relu) , \n",
    "                                 keras.layers.Dense(100 , activation = tf.nn.relu) , \n",
    "                                 keras.layers.Dense(10 , activation = 'softmax')])"
   ]
  },
  {
   "cell_type": "code",
   "execution_count": 23,
   "metadata": {},
   "outputs": [
    {
     "name": "stdout",
     "output_type": "stream",
     "text": [
      "Model: \"sequential_1\"\n",
      "_________________________________________________________________\n",
      "Layer (type)                 Output Shape              Param #   \n",
      "=================================================================\n",
      "flatten_1 (Flatten)          (None, 784)               0         \n",
      "_________________________________________________________________\n",
      "dense_3 (Dense)              (None, 300)               235500    \n",
      "_________________________________________________________________\n",
      "dense_4 (Dense)              (None, 100)               30100     \n",
      "_________________________________________________________________\n",
      "dense_5 (Dense)              (None, 10)                1010      \n",
      "=================================================================\n",
      "Total params: 266,610\n",
      "Trainable params: 266,610\n",
      "Non-trainable params: 0\n",
      "_________________________________________________________________\n"
     ]
    }
   ],
   "source": [
    "model.summary()"
   ]
  },
  {
   "cell_type": "code",
   "execution_count": 24,
   "metadata": {},
   "outputs": [
    {
     "data": {
      "text/plain": [
       "[<tensorflow.python.keras.layers.core.Flatten at 0x25aebb39d30>,\n",
       " <tensorflow.python.keras.layers.core.Dense at 0x25ac5520e20>,\n",
       " <tensorflow.python.keras.layers.core.Dense at 0x25aebb39340>,\n",
       " <tensorflow.python.keras.layers.core.Dense at 0x25aebb39c10>]"
      ]
     },
     "execution_count": 24,
     "metadata": {},
     "output_type": "execute_result"
    }
   ],
   "source": [
    "model.layers"
   ]
  },
  {
   "cell_type": "code",
   "execution_count": 25,
   "metadata": {},
   "outputs": [],
   "source": [
    "model.compile(optimizer = tf.optimizers.Adam() , loss = 'sparse_categorical_crossentropy' , metrics = ['accuracy'])"
   ]
  },
  {
   "cell_type": "code",
   "execution_count": 34,
   "metadata": {},
   "outputs": [
    {
     "name": "stdout",
     "output_type": "stream",
     "text": [
      "Epoch 1/50\n",
      "1719/1719 [==============================] - 13s 7ms/step - loss: 0.0829 - accuracy: 0.9696 - val_loss: 144.4993 - val_accuracy: 0.8661\n",
      "Epoch 2/50\n",
      "1719/1719 [==============================] - 11s 6ms/step - loss: 0.0776 - accuracy: 0.9712 - val_loss: 140.4062 - val_accuracy: 0.8639\n",
      "Epoch 3/50\n",
      "1719/1719 [==============================] - 9s 6ms/step - loss: 0.0773 - accuracy: 0.9702 - val_loss: 160.2045 - val_accuracy: 0.8641\n",
      "Epoch 4/50\n",
      "1719/1719 [==============================] - 8s 5ms/step - loss: 0.0758 - accuracy: 0.9708 - val_loss: 140.6250 - val_accuracy: 0.8756\n",
      "Epoch 5/50\n",
      "1719/1719 [==============================] - 7s 4ms/step - loss: 0.0768 - accuracy: 0.9707 - val_loss: 155.3251 - val_accuracy: 0.8631\n",
      "Epoch 6/50\n",
      "1719/1719 [==============================] - 7s 4ms/step - loss: 0.0744 - accuracy: 0.9718 - val_loss: 163.7445 - val_accuracy: 0.8643\n",
      "Epoch 7/50\n",
      "1719/1719 [==============================] - 7s 4ms/step - loss: 0.0725 - accuracy: 0.9724 - val_loss: 170.7874 - val_accuracy: 0.8651\n",
      "Epoch 8/50\n",
      "1719/1719 [==============================] - 6s 4ms/step - loss: 0.0753 - accuracy: 0.9719 - val_loss: 152.3383 - val_accuracy: 0.8727\n",
      "Epoch 9/50\n",
      "1719/1719 [==============================] - 6s 4ms/step - loss: 0.0726 - accuracy: 0.9725 - val_loss: 161.7724 - val_accuracy: 0.8598\n",
      "Epoch 10/50\n",
      "1719/1719 [==============================] - 6s 4ms/step - loss: 0.0686 - accuracy: 0.9736 - val_loss: 170.6095 - val_accuracy: 0.8574\n",
      "Epoch 11/50\n",
      "1719/1719 [==============================] - 6s 3ms/step - loss: 0.0705 - accuracy: 0.9739 - val_loss: 179.6693 - val_accuracy: 0.8537\n",
      "Epoch 12/50\n",
      "1719/1719 [==============================] - 6s 3ms/step - loss: 0.0681 - accuracy: 0.9744 - val_loss: 181.2366 - val_accuracy: 0.8589\n",
      "Epoch 13/50\n",
      "1719/1719 [==============================] - 6s 4ms/step - loss: 0.0650 - accuracy: 0.9756 - val_loss: 155.4001 - val_accuracy: 0.8698\n",
      "Epoch 14/50\n",
      "1719/1719 [==============================] - 6s 3ms/step - loss: 0.0661 - accuracy: 0.9748 - val_loss: 155.9023 - val_accuracy: 0.8737\n",
      "Epoch 15/50\n",
      "1719/1719 [==============================] - 6s 3ms/step - loss: 0.0660 - accuracy: 0.9748 - val_loss: 169.2917 - val_accuracy: 0.8610\n",
      "Epoch 16/50\n",
      "1719/1719 [==============================] - 6s 3ms/step - loss: 0.0683 - accuracy: 0.9750 - val_loss: 180.5099 - val_accuracy: 0.8666\n",
      "Epoch 17/50\n",
      "1719/1719 [==============================] - 6s 3ms/step - loss: 0.0645 - accuracy: 0.9760 - val_loss: 172.6181 - val_accuracy: 0.8595\n",
      "Epoch 18/50\n",
      "1719/1719 [==============================] - 6s 4ms/step - loss: 0.0606 - accuracy: 0.9779 - val_loss: 168.0202 - val_accuracy: 0.8756\n",
      "Epoch 19/50\n",
      "1719/1719 [==============================] - 6s 4ms/step - loss: 0.0606 - accuracy: 0.9769 - val_loss: 202.9294 - val_accuracy: 0.8698\n",
      "Epoch 20/50\n",
      "1719/1719 [==============================] - 6s 3ms/step - loss: 0.0630 - accuracy: 0.9767 - val_loss: 197.9479 - val_accuracy: 0.8574\n",
      "Epoch 21/50\n",
      "1719/1719 [==============================] - 6s 4ms/step - loss: 0.0603 - accuracy: 0.9773 - val_loss: 185.1255 - val_accuracy: 0.8763\n",
      "Epoch 22/50\n",
      "1719/1719 [==============================] - 6s 4ms/step - loss: 0.0588 - accuracy: 0.9781 - val_loss: 201.6888 - val_accuracy: 0.8513\n",
      "Epoch 23/50\n",
      "1719/1719 [==============================] - 7s 4ms/step - loss: 0.0554 - accuracy: 0.9791 - val_loss: 210.7939 - val_accuracy: 0.8539\n",
      "Epoch 24/50\n",
      "1719/1719 [==============================] - 6s 4ms/step - loss: 0.0595 - accuracy: 0.9776 - val_loss: 200.4005 - val_accuracy: 0.8631\n",
      "Epoch 25/50\n",
      "1719/1719 [==============================] - 6s 4ms/step - loss: 0.0546 - accuracy: 0.9801 - val_loss: 193.0155 - val_accuracy: 0.8682\n",
      "Epoch 26/50\n",
      "1719/1719 [==============================] - 7s 4ms/step - loss: 0.0596 - accuracy: 0.9778 - val_loss: 188.5625 - val_accuracy: 0.8731\n",
      "Epoch 27/50\n",
      "1719/1719 [==============================] - 6s 4ms/step - loss: 0.0526 - accuracy: 0.9812 - val_loss: 200.1046 - val_accuracy: 0.8662\n",
      "Epoch 28/50\n",
      "1719/1719 [==============================] - 7s 4ms/step - loss: 0.0575 - accuracy: 0.9785 - val_loss: 204.5842 - val_accuracy: 0.8750\n",
      "Epoch 29/50\n",
      "1719/1719 [==============================] - 6s 4ms/step - loss: 0.0580 - accuracy: 0.9789 - val_loss: 196.4373 - val_accuracy: 0.8654\n",
      "Epoch 30/50\n",
      "1719/1719 [==============================] - 7s 4ms/step - loss: 0.0483 - accuracy: 0.9817 - val_loss: 209.9245 - val_accuracy: 0.8731\n",
      "Epoch 31/50\n",
      "1719/1719 [==============================] - 6s 4ms/step - loss: 0.0577 - accuracy: 0.9797 - val_loss: 217.8466 - val_accuracy: 0.8578\n",
      "Epoch 32/50\n",
      "1719/1719 [==============================] - 6s 4ms/step - loss: 0.0521 - accuracy: 0.9816 - val_loss: 208.2689 - val_accuracy: 0.8680\n",
      "Epoch 33/50\n",
      "1719/1719 [==============================] - 7s 4ms/step - loss: 0.0505 - accuracy: 0.9810 - val_loss: 220.3665 - val_accuracy: 0.8720\n",
      "Epoch 34/50\n",
      "1719/1719 [==============================] - 6s 4ms/step - loss: 0.0535 - accuracy: 0.9807 - val_loss: 220.3532 - val_accuracy: 0.8667\n",
      "Epoch 35/50\n",
      "1719/1719 [==============================] - 6s 4ms/step - loss: 0.0502 - accuracy: 0.9816 - val_loss: 207.2558 - val_accuracy: 0.8653\n",
      "Epoch 36/50\n",
      "1719/1719 [==============================] - 7s 4ms/step - loss: 0.0518 - accuracy: 0.9813 - val_loss: 206.5369 - val_accuracy: 0.8696\n",
      "Epoch 37/50\n",
      "1719/1719 [==============================] - 7s 4ms/step - loss: 0.0481 - accuracy: 0.9830 - val_loss: 217.4790 - val_accuracy: 0.8801\n",
      "Epoch 38/50\n",
      "1719/1719 [==============================] - 7s 4ms/step - loss: 0.0489 - accuracy: 0.9818 - val_loss: 253.9657 - val_accuracy: 0.8673\n",
      "Epoch 39/50\n",
      "1719/1719 [==============================] - 7s 4ms/step - loss: 0.0503 - accuracy: 0.9813 - val_loss: 228.1891 - val_accuracy: 0.8690\n",
      "Epoch 40/50\n",
      "1719/1719 [==============================] - 9s 5ms/step - loss: 0.0483 - accuracy: 0.9828 - val_loss: 231.1857 - val_accuracy: 0.8741\n",
      "Epoch 41/50\n",
      "1719/1719 [==============================] - 8s 5ms/step - loss: 0.0513 - accuracy: 0.9812 - val_loss: 230.9568 - val_accuracy: 0.8734\n",
      "Epoch 42/50\n",
      "1719/1719 [==============================] - 7s 4ms/step - loss: 0.0445 - accuracy: 0.9840 - val_loss: 215.6894 - val_accuracy: 0.8715\n",
      "Epoch 43/50\n",
      "1719/1719 [==============================] - 7s 4ms/step - loss: 0.0483 - accuracy: 0.9818 - val_loss: 251.5936 - val_accuracy: 0.8512\n",
      "Epoch 44/50\n",
      "1719/1719 [==============================] - 7s 4ms/step - loss: 0.0462 - accuracy: 0.9840 - val_loss: 228.0063 - val_accuracy: 0.8687\n",
      "Epoch 45/50\n",
      "1719/1719 [==============================] - 7s 4ms/step - loss: 0.0473 - accuracy: 0.9830 - val_loss: 222.9052 - val_accuracy: 0.8712\n",
      "Epoch 46/50\n",
      "1719/1719 [==============================] - 7s 4ms/step - loss: 0.0398 - accuracy: 0.9853 - val_loss: 247.3573 - val_accuracy: 0.8712\n",
      "Epoch 47/50\n",
      "1719/1719 [==============================] - 8s 5ms/step - loss: 0.0459 - accuracy: 0.9839 - val_loss: 234.5454 - val_accuracy: 0.8649\n",
      "Epoch 48/50\n",
      "1719/1719 [==============================] - 6s 4ms/step - loss: 0.0504 - accuracy: 0.9825 - val_loss: 236.3643 - val_accuracy: 0.8672\n",
      "Epoch 49/50\n",
      "1719/1719 [==============================] - 8s 5ms/step - loss: 0.0441 - accuracy: 0.9841 - val_loss: 265.5815 - val_accuracy: 0.8608\n",
      "Epoch 50/50\n",
      "1719/1719 [==============================] - 8s 4ms/step - loss: 0.0426 - accuracy: 0.9849 - val_loss: 242.1996 - val_accuracy: 0.8658\n"
     ]
    }
   ],
   "source": [
    "history= model.fit(X_train , y_train , epochs = 50  , validation_data = (X_test , y_test))"
   ]
  },
  {
   "cell_type": "code",
   "execution_count": 23,
   "metadata": {},
   "outputs": [
    {
     "data": {
      "text/plain": [
       "(5000,)"
      ]
     },
     "execution_count": 23,
     "metadata": {},
     "output_type": "execute_result"
    }
   ],
   "source": [
    "y_valid.shape"
   ]
  },
  {
   "cell_type": "code",
   "execution_count": 35,
   "metadata": {},
   "outputs": [
    {
     "data": {
      "text/plain": [
       "{'loss': [0.08285124599933624,\n",
       "  0.07757215946912766,\n",
       "  0.07725460082292557,\n",
       "  0.07579086720943451,\n",
       "  0.07683904469013214,\n",
       "  0.07443268597126007,\n",
       "  0.07249683141708374,\n",
       "  0.07532493770122528,\n",
       "  0.07263819873332977,\n",
       "  0.06864956766366959,\n",
       "  0.07052664458751678,\n",
       "  0.0680767297744751,\n",
       "  0.06496132165193558,\n",
       "  0.06607595086097717,\n",
       "  0.0660155788064003,\n",
       "  0.06831945478916168,\n",
       "  0.0644572451710701,\n",
       "  0.06062519550323486,\n",
       "  0.060595445334911346,\n",
       "  0.06303846091032028,\n",
       "  0.060280974954366684,\n",
       "  0.05882948637008667,\n",
       "  0.05541285127401352,\n",
       "  0.05954530090093613,\n",
       "  0.05462848022580147,\n",
       "  0.05963793024420738,\n",
       "  0.052598822861909866,\n",
       "  0.05751928314566612,\n",
       "  0.05799093097448349,\n",
       "  0.04831036552786827,\n",
       "  0.057707346975803375,\n",
       "  0.052098676562309265,\n",
       "  0.050453636795282364,\n",
       "  0.05354975908994675,\n",
       "  0.050210803747177124,\n",
       "  0.05178717523813248,\n",
       "  0.04811292514204979,\n",
       "  0.04893844947218895,\n",
       "  0.050288088619709015,\n",
       "  0.04833532124757767,\n",
       "  0.05132614076137543,\n",
       "  0.044532496482133865,\n",
       "  0.04826640337705612,\n",
       "  0.046190500259399414,\n",
       "  0.04729602858424187,\n",
       "  0.039782702922821045,\n",
       "  0.0459476001560688,\n",
       "  0.050389647483825684,\n",
       "  0.044072460383176804,\n",
       "  0.0426107719540596],\n",
       " 'accuracy': [0.9695636630058289,\n",
       "  0.9711636304855347,\n",
       "  0.9702363610267639,\n",
       "  0.970763623714447,\n",
       "  0.970690906047821,\n",
       "  0.9718000292778015,\n",
       "  0.9724363684654236,\n",
       "  0.971854567527771,\n",
       "  0.9725090861320496,\n",
       "  0.9735999703407288,\n",
       "  0.9739090800285339,\n",
       "  0.974399983882904,\n",
       "  0.9756181836128235,\n",
       "  0.9748181700706482,\n",
       "  0.9747818112373352,\n",
       "  0.9750363826751709,\n",
       "  0.9760181903839111,\n",
       "  0.9778545498847961,\n",
       "  0.9769272804260254,\n",
       "  0.9767090678215027,\n",
       "  0.9772545695304871,\n",
       "  0.9780908823013306,\n",
       "  0.9791272878646851,\n",
       "  0.9776363372802734,\n",
       "  0.9801090955734253,\n",
       "  0.9778363704681396,\n",
       "  0.981181800365448,\n",
       "  0.9784545302391052,\n",
       "  0.9788545370101929,\n",
       "  0.9817090630531311,\n",
       "  0.9796727299690247,\n",
       "  0.9815636277198792,\n",
       "  0.981036365032196,\n",
       "  0.9807090759277344,\n",
       "  0.9815636277198792,\n",
       "  0.9813454747200012,\n",
       "  0.983018159866333,\n",
       "  0.9818181991577148,\n",
       "  0.981254518032074,\n",
       "  0.9828181862831116,\n",
       "  0.981181800365448,\n",
       "  0.984000027179718,\n",
       "  0.9818000197410583,\n",
       "  0.9839636087417603,\n",
       "  0.9829999804496765,\n",
       "  0.9853454828262329,\n",
       "  0.9839272499084473,\n",
       "  0.9824545383453369,\n",
       "  0.984109103679657,\n",
       "  0.984854519367218],\n",
       " 'val_loss': [144.49929809570312,\n",
       "  140.40618896484375,\n",
       "  160.2045135498047,\n",
       "  140.6250457763672,\n",
       "  155.3251495361328,\n",
       "  163.7445068359375,\n",
       "  170.78744506835938,\n",
       "  152.33827209472656,\n",
       "  161.7723846435547,\n",
       "  170.60946655273438,\n",
       "  179.66928100585938,\n",
       "  181.23660278320312,\n",
       "  155.40005493164062,\n",
       "  155.90231323242188,\n",
       "  169.29165649414062,\n",
       "  180.50990295410156,\n",
       "  172.6180877685547,\n",
       "  168.02024841308594,\n",
       "  202.92941284179688,\n",
       "  197.94790649414062,\n",
       "  185.12554931640625,\n",
       "  201.6888427734375,\n",
       "  210.7938995361328,\n",
       "  200.4004669189453,\n",
       "  193.0154571533203,\n",
       "  188.56248474121094,\n",
       "  200.1046142578125,\n",
       "  204.58421325683594,\n",
       "  196.437255859375,\n",
       "  209.92449951171875,\n",
       "  217.84657287597656,\n",
       "  208.26890563964844,\n",
       "  220.366455078125,\n",
       "  220.35317993164062,\n",
       "  207.2557830810547,\n",
       "  206.53689575195312,\n",
       "  217.47901916503906,\n",
       "  253.9657440185547,\n",
       "  228.18914794921875,\n",
       "  231.18572998046875,\n",
       "  230.95677185058594,\n",
       "  215.6893768310547,\n",
       "  251.5935516357422,\n",
       "  228.00634765625,\n",
       "  222.9051513671875,\n",
       "  247.3573455810547,\n",
       "  234.54537963867188,\n",
       "  236.3643035888672,\n",
       "  265.5815124511719,\n",
       "  242.19956970214844],\n",
       " 'val_accuracy': [0.866100013256073,\n",
       "  0.8639000058174133,\n",
       "  0.8640999794006348,\n",
       "  0.8755999803543091,\n",
       "  0.863099992275238,\n",
       "  0.864300012588501,\n",
       "  0.8651000261306763,\n",
       "  0.8726999759674072,\n",
       "  0.8597999811172485,\n",
       "  0.8574000000953674,\n",
       "  0.8536999821662903,\n",
       "  0.8589000105857849,\n",
       "  0.8697999715805054,\n",
       "  0.8737000226974487,\n",
       "  0.8610000014305115,\n",
       "  0.866599977016449,\n",
       "  0.859499990940094,\n",
       "  0.8755999803543091,\n",
       "  0.8697999715805054,\n",
       "  0.8574000000953674,\n",
       "  0.8762999773025513,\n",
       "  0.8513000011444092,\n",
       "  0.8539000153541565,\n",
       "  0.863099992275238,\n",
       "  0.8682000041007996,\n",
       "  0.8730999827384949,\n",
       "  0.8661999702453613,\n",
       "  0.875,\n",
       "  0.8654000163078308,\n",
       "  0.8730999827384949,\n",
       "  0.8578000068664551,\n",
       "  0.8679999709129333,\n",
       "  0.871999979019165,\n",
       "  0.8666999936103821,\n",
       "  0.8652999997138977,\n",
       "  0.8695999979972839,\n",
       "  0.8801000118255615,\n",
       "  0.8672999739646912,\n",
       "  0.8690000176429749,\n",
       "  0.8741000294685364,\n",
       "  0.8733999729156494,\n",
       "  0.8715000152587891,\n",
       "  0.8511999845504761,\n",
       "  0.8687000274658203,\n",
       "  0.8712000250816345,\n",
       "  0.8712000250816345,\n",
       "  0.8648999929428101,\n",
       "  0.8672000169754028,\n",
       "  0.86080002784729,\n",
       "  0.8658000230789185]}"
      ]
     },
     "execution_count": 35,
     "metadata": {},
     "output_type": "execute_result"
    }
   ],
   "source": [
    "history.history"
   ]
  },
  {
   "cell_type": "code",
   "execution_count": 44,
   "metadata": {},
   "outputs": [
    {
     "name": "stdout",
     "output_type": "stream",
     "text": [
      "313/313 [==============================] - 1s 2ms/step - loss: 242.1996 - accuracy: 0.8658\n"
     ]
    },
    {
     "data": {
      "text/plain": [
       "[242.19956970214844, 0.8658000230789185]"
      ]
     },
     "execution_count": 44,
     "metadata": {},
     "output_type": "execute_result"
    }
   ],
   "source": [
    "model.evaluate(X_test, y_test)"
   ]
  },
  {
   "cell_type": "code",
   "execution_count": 41,
   "metadata": {},
   "outputs": [
    {
     "data": {
      "text/plain": [
       "(0.0, 1.0)"
      ]
     },
     "execution_count": 41,
     "metadata": {},
     "output_type": "execute_result"
    },
    {
     "data": {
      "image/png": "[encoded data removed]",
      "text/plain": [
       "<Figure size 720x504 with 1 Axes>"
      ]
     },
     "metadata": {},
     "output_type": "display_data"
    }
   ],
   "source": [
    "import seaborn as sns\n",
    "sns.set_style(style = 'darkgrid')\n",
    "pd.DataFrame(history.history).plot(figsize = (10 , 7))\n",
    "plt.gca().set_ylim(0,1)"
   ]
  },
  {
   "cell_type": "code",
   "execution_count": 50,
   "metadata": {},
   "outputs": [
    {
     "name": "stderr",
     "output_type": "stream",
     "text": [
      "C:\\Users\\RUSSEL\\ANACONDA3\\lib\\site-packages\\tensorflow\\python\\keras\\engine\\sequential.py:450: UserWarning: `model.predict_classes()` is deprecated and will be removed after 2021-01-01. Please use instead:* `np.argmax(model.predict(x), axis=-1)`,   if your model does multi-class classification   (e.g. if it uses a `softmax` last-layer activation).* `(model.predict(x) > 0.5).astype(\"int32\")`,   if your model does binary classification   (e.g. if it uses a `sigmoid` last-layer activation).\n",
      "  warnings.warn('`model.predict_classes()` is deprecated and '\n"
     ]
    },
    {
     "data": {
      "text/plain": [
       "array([9, 2, 1, 1, 6, 1, 4, 4, 5, 7], dtype=int64)"
      ]
     },
     "execution_count": 50,
     "metadata": {},
     "output_type": "execute_result"
    }
   ],
   "source": [
    "X_new = X_test[:10]\n",
    "y_pred = model.predict_classes(X_new)\n",
    "y_pred"
   ]
  },
  {
   "cell_type": "code",
   "execution_count": 51,
   "metadata": {},
   "outputs": [
    {
     "data": {
      "text/plain": [
       "array([9, 2, 1, 1, 6, 1, 4, 6, 5, 7], dtype=uint8)"
      ]
     },
     "execution_count": 51,
     "metadata": {},
     "output_type": "execute_result"
    }
   ],
   "source": [
    "y_test[:10]"
   ]
  }
 ],
 "metadata": {
  "kernelspec": {
   "display_name": "Python 3",
   "language": "python",
   "name": "python3"
  },
  "language_info": {
   "codemirror_mode": {
    "name": "ipython",
    "version": 3
   },
   "file_extension": ".py",
   "mimetype": "text/x-python",
   "name": "python",
   "nbconvert_exporter": "python",
   "pygments_lexer": "ipython3",
   "version": "3.8.8"
  }
 },
 "nbformat": 4,
 "nbformat_minor": 4
}
